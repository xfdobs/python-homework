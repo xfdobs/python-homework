{
 "cells": [
  {
   "cell_type": "code",
   "execution_count": 1,
   "metadata": {},
   "outputs": [
    {
     "data": {
      "text/plain": [
       "'\\nThis script analyzes the financial records of PyBank company, showing and exporting the \\nrecords calculated based on the budget data provided in the csv file.\\nThe approach is using Dictionary, List and Csv\\xa0\\n'"
      ]
     },
     "execution_count": 1,
     "metadata": {},
     "output_type": "execute_result"
    }
   ],
   "source": [
    "\"\"\"\n",
    "This script analyzes the financial records of PyBank company, showing and exporting the \n",
    "records calculated based on the budget data provided in the csv file.\n",
    "The approach is using Dictionary, List and Csv \n",
    "\"\"\""
   ]
  },
  {
   "cell_type": "code",
   "execution_count": 2,
   "metadata": {},
   "outputs": [],
   "source": [
    "#Import the libs, PATH for reade the files location and CSV to manipulate the file"
   ]
  },
  {
   "cell_type": "code",
   "execution_count": 3,
   "metadata": {},
   "outputs": [],
   "source": [
    "from pathlib import Path\n",
    "import csv"
   ]
  },
  {
   "cell_type": "code",
   "execution_count": 4,
   "metadata": {},
   "outputs": [],
   "source": [
    "#Function to read the CSV file and at the same time calculating the Profi/Loss changes. The return is a list containing Date, Profit/Loss and the changes<h1>"
   ]
  },
  {
   "cell_type": "code",
   "execution_count": 5,
   "metadata": {},
   "outputs": [],
   "source": [
    "def read_csv_data(path_file):\n",
    "    #List to return the lines and the changes already calculated\n",
    "    budget_data_lines = []\n",
    "    \n",
    "    #Variable to be used to calculate the changes\n",
    "    previous_pnl = 0\n",
    "    \n",
    "    #Variable to identify the position of the line\n",
    "    count = 0\n",
    "    \n",
    "    #Open the input as file object\n",
    "    with open(path_file, 'r') as csvfile:\n",
    "        \n",
    "        #pass in the csv file to the csv.reader with ',' as delimiter and return csv object\n",
    "        csvreader = csv.reader(csvfile, delimiter=',')\n",
    "        \n",
    "        #Skip the header\n",
    "        next(csvreader)\n",
    "        \n",
    "        for line in csvreader:\n",
    "            \n",
    "            # The condition is to check if the position is in the first line, in case it's , it will not be able to calculate the changes (profit/loss from current month - previous month) and it will zero \n",
    "            if count > 0:\n",
    "                \n",
    "                #The changes is the current profit/Loss - the previous profit/Loss. The variable \"previous_pnl\" has the value from the past interaction\n",
    "                changes = int(line[1]) - previous_pnl\n",
    "            else:\n",
    "                changes = 0\n",
    "                \n",
    "            # Append the Date, Profit/loss and the changes already calculated in the step above\n",
    "            budget_data_lines.append([line[0],line[1],changes])\n",
    "            \n",
    "            # Saves the current Profit/Loss number in the variable \"previous_pnl\", which will be used to calculated in the next iteration \n",
    "            previous_pnl = int(line[1])\n",
    "            \n",
    "            #Add + 1 to the count variable\n",
    "            count += 1\n",
    "            \n",
    "    return budget_data_lines"
   ]
  },
  {
   "cell_type": "code",
   "execution_count": 6,
   "metadata": {},
   "outputs": [],
   "source": [
    "#Function to analyzes the records and calculate the results. The results is saved in a dictionary and being returned by the function"
   ]
  },
  {
   "cell_type": "code",
   "execution_count": 7,
   "metadata": {},
   "outputs": [],
   "source": [
    "def calculate_results(budget_data):\n",
    "    #Set the dictionary that will save the results\n",
    "    results = {}\n",
    "    #Total month is equal the lenth of the dictionary\n",
    "    results['Total Months'] = len(budget_data)\n",
    "\n",
    "    #Total is the sum of profit/loss\n",
    "    results['Total'] = f\"${sum(int(line[1]) for line in budget_data)}\"\n",
    "    \n",
    "    #Average Change is the sum of profit/Loss divide by the lenth of dictionary\n",
    "    #The list starts from index 1 because the \"changes\" the index 0 has no \"changes\" information , it only can be calculated after the second line..    \n",
    "    results['Average Change'] = f\"${round(sum(int(line[2])  for line in budget_data[1:]) / len(budget_data[1:]),2)}\"\n",
    "        \n",
    "    #The greatest increase and decrease are calculate based on the min and max value from the changes.\n",
    "    decrease = min(budget_data, key=lambda  x: x[2])\n",
    "    increase = max(budget_data, key=lambda  x: x[2])\n",
    "    results['Greatest Increase in Profits'] = f\"{increase[0]} (${increase[2]})\" \n",
    "    results['Greatest Decrease in Profits'] = f\"{decrease[0]} (${decrease[2]})\"\n",
    "    \n",
    "    return results"
   ]
  },
  {
   "cell_type": "code",
   "execution_count": 8,
   "metadata": {},
   "outputs": [],
   "source": [
    "#Function to print and export the results based on the dictionary with all the results "
   ]
  },
  {
   "cell_type": "code",
   "execution_count": 9,
   "metadata": {},
   "outputs": [],
   "source": [
    "def result_print_export(pnl_results,output_file):\n",
    "    title = 'Financial Analysis \\n----------------------------'\n",
    "    \n",
    "    #Open the output path as file object\n",
    "    with open(output_file,'w') as file:\n",
    "        \n",
    "        #Print the title\n",
    "        print(title)\n",
    "        \n",
    "        #Write the title to the file\n",
    "        file.write(title)        \n",
    "        \n",
    "        #Looping the dictionary with all the results calculated\n",
    "        for key,value in pnl_results.items():          \n",
    "            \n",
    "            if type(value) == list:\n",
    "                print(f\"{key}: {value[0]} (${value[1]})\")\n",
    "                file.write(f\"{key}: {value[0]} (${value[1]}) \\n\")\n",
    "            else:\n",
    "                print(f\"{key}: {value}\")\n",
    "                file.write(f\"{key}: {value} \\n\")"
   ]
  },
  {
   "cell_type": "code",
   "execution_count": 10,
   "metadata": {},
   "outputs": [],
   "source": [
    "################ Paths and variables ################"
   ]
  },
  {
   "cell_type": "code",
   "execution_count": 11,
   "metadata": {},
   "outputs": [],
   "source": [
    "# Set the csv file path"
   ]
  },
  {
   "cell_type": "code",
   "execution_count": 12,
   "metadata": {},
   "outputs": [],
   "source": [
    "path_file = Path(\"./data/budget_data.csv\")"
   ]
  },
  {
   "cell_type": "code",
   "execution_count": 13,
   "metadata": {},
   "outputs": [],
   "source": [
    "# Set the output results path"
   ]
  },
  {
   "cell_type": "code",
   "execution_count": 14,
   "metadata": {},
   "outputs": [],
   "source": [
    "output_file = Path(\"./output.txt\")"
   ]
  },
  {
   "cell_type": "code",
   "execution_count": 15,
   "metadata": {},
   "outputs": [],
   "source": [
    "# Initialize variable to hold the results and the data from csv"
   ]
  },
  {
   "cell_type": "code",
   "execution_count": 16,
   "metadata": {},
   "outputs": [],
   "source": [
    "pnl_results = {}\n",
    "budget_data = []"
   ]
  },
  {
   "cell_type": "code",
   "execution_count": 17,
   "metadata": {},
   "outputs": [],
   "source": [
    "################ Data Analysis ################"
   ]
  },
  {
   "cell_type": "code",
   "execution_count": 18,
   "metadata": {},
   "outputs": [],
   "source": [
    "# 1 - Call the function to read the csv data and save in  the CSV file and saving in a list"
   ]
  },
  {
   "cell_type": "code",
   "execution_count": 19,
   "metadata": {},
   "outputs": [],
   "source": [
    "budget_data = read_csv_data(path_file)"
   ]
  },
  {
   "cell_type": "code",
   "execution_count": 20,
   "metadata": {},
   "outputs": [],
   "source": [
    "# 2 - Call the function to analysis the results based on the list with all the data. The results is saved in a dictionary"
   ]
  },
  {
   "cell_type": "code",
   "execution_count": 21,
   "metadata": {},
   "outputs": [],
   "source": [
    "pnl_results = calculate_results(budget_data)"
   ]
  },
  {
   "cell_type": "code",
   "execution_count": 22,
   "metadata": {},
   "outputs": [],
   "source": [
    "# 3 - Call the function to print and export the results"
   ]
  },
  {
   "cell_type": "code",
   "execution_count": 23,
   "metadata": {},
   "outputs": [
    {
     "name": "stdout",
     "output_type": "stream",
     "text": [
      "Financial Analysis \n",
      "----------------------------\n",
      "Total Months: 86\n",
      "Total: $38382578\n",
      "Average Change: $-2315.12\n",
      "Greatest Increase in Profits: Feb-2012 ($1926159)\n",
      "Greatest Decrease in Profits: Sep-2013 ($-2196167)\n"
     ]
    }
   ],
   "source": [
    "result_print_export(pnl_results,output_file)"
   ]
  },
  {
   "cell_type": "code",
   "execution_count": null,
   "metadata": {},
   "outputs": [],
   "source": []
  },
  {
   "cell_type": "code",
   "execution_count": null,
   "metadata": {},
   "outputs": [],
   "source": []
  }
 ],
 "metadata": {
  "kernelspec": {
   "display_name": "Python 3",
   "language": "python",
   "name": "python3"
  },
  "language_info": {
   "codemirror_mode": {
    "name": "ipython",
    "version": 3
   },
   "file_extension": ".py",
   "mimetype": "text/x-python",
   "name": "python",
   "nbconvert_exporter": "python",
   "pygments_lexer": "ipython3",
   "version": "3.8.5"
  }
 },
 "nbformat": 4,
 "nbformat_minor": 5
}
