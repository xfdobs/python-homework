{
 "cells": [
  {
   "cell_type": "code",
   "execution_count": 164,
   "id": "serious-syndrome",
   "metadata": {},
   "outputs": [],
   "source": [
    "import pandas as pd"
   ]
  },
  {
   "cell_type": "code",
   "execution_count": 293,
   "id": "synthetic-techno",
   "metadata": {},
   "outputs": [],
   "source": [
    "# Importing the budget data"
   ]
  },
  {
   "cell_type": "code",
   "execution_count": 327,
   "id": "forty-eagle",
   "metadata": {},
   "outputs": [],
   "source": [
    "pnl_results = {}"
   ]
  },
  {
   "cell_type": "code",
   "execution_count": 328,
   "id": "contained-theology",
   "metadata": {},
   "outputs": [],
   "source": [
    "budget_data = pd.read_csv('C:/Repos/python-homework/PyBank/data/02-Homework_02-Python_Instructions_PyBank_Resources_budget_data.csv')"
   ]
  },
  {
   "cell_type": "code",
   "execution_count": 329,
   "id": "packed-native",
   "metadata": {},
   "outputs": [
    {
     "data": {
      "text/html": [
       "<div>\n",
       "<style scoped>\n",
       "    .dataframe tbody tr th:only-of-type {\n",
       "        vertical-align: middle;\n",
       "    }\n",
       "\n",
       "    .dataframe tbody tr th {\n",
       "        vertical-align: top;\n",
       "    }\n",
       "\n",
       "    .dataframe thead th {\n",
       "        text-align: right;\n",
       "    }\n",
       "</style>\n",
       "<table border=\"1\" class=\"dataframe\">\n",
       "  <thead>\n",
       "    <tr style=\"text-align: right;\">\n",
       "      <th></th>\n",
       "      <th>Date</th>\n",
       "      <th>Profit/Losses</th>\n",
       "    </tr>\n",
       "  </thead>\n",
       "  <tbody>\n",
       "    <tr>\n",
       "      <th>0</th>\n",
       "      <td>Jan-2010</td>\n",
       "      <td>867884</td>\n",
       "    </tr>\n",
       "    <tr>\n",
       "      <th>1</th>\n",
       "      <td>Feb-2010</td>\n",
       "      <td>984655</td>\n",
       "    </tr>\n",
       "    <tr>\n",
       "      <th>2</th>\n",
       "      <td>Mar-2010</td>\n",
       "      <td>322013</td>\n",
       "    </tr>\n",
       "    <tr>\n",
       "      <th>3</th>\n",
       "      <td>Apr-2010</td>\n",
       "      <td>-69417</td>\n",
       "    </tr>\n",
       "    <tr>\n",
       "      <th>4</th>\n",
       "      <td>May-2010</td>\n",
       "      <td>310503</td>\n",
       "    </tr>\n",
       "    <tr>\n",
       "      <th>...</th>\n",
       "      <td>...</td>\n",
       "      <td>...</td>\n",
       "    </tr>\n",
       "    <tr>\n",
       "      <th>81</th>\n",
       "      <td>Oct-2016</td>\n",
       "      <td>102685</td>\n",
       "    </tr>\n",
       "    <tr>\n",
       "      <th>82</th>\n",
       "      <td>Nov-2016</td>\n",
       "      <td>795914</td>\n",
       "    </tr>\n",
       "    <tr>\n",
       "      <th>83</th>\n",
       "      <td>Dec-2016</td>\n",
       "      <td>60988</td>\n",
       "    </tr>\n",
       "    <tr>\n",
       "      <th>84</th>\n",
       "      <td>Jan-2017</td>\n",
       "      <td>138230</td>\n",
       "    </tr>\n",
       "    <tr>\n",
       "      <th>85</th>\n",
       "      <td>Feb-2017</td>\n",
       "      <td>671099</td>\n",
       "    </tr>\n",
       "  </tbody>\n",
       "</table>\n",
       "<p>86 rows × 2 columns</p>\n",
       "</div>"
      ],
      "text/plain": [
       "        Date  Profit/Losses\n",
       "0   Jan-2010         867884\n",
       "1   Feb-2010         984655\n",
       "2   Mar-2010         322013\n",
       "3   Apr-2010         -69417\n",
       "4   May-2010         310503\n",
       "..       ...            ...\n",
       "81  Oct-2016         102685\n",
       "82  Nov-2016         795914\n",
       "83  Dec-2016          60988\n",
       "84  Jan-2017         138230\n",
       "85  Feb-2017         671099\n",
       "\n",
       "[86 rows x 2 columns]"
      ]
     },
     "execution_count": 329,
     "metadata": {},
     "output_type": "execute_result"
    }
   ],
   "source": [
    "budget_data"
   ]
  },
  {
   "cell_type": "code",
   "execution_count": 330,
   "id": "rolled-bidder",
   "metadata": {},
   "outputs": [],
   "source": [
    "#The total number of months included in the dataset."
   ]
  },
  {
   "cell_type": "code",
   "execution_count": 331,
   "id": "indirect-still",
   "metadata": {},
   "outputs": [],
   "source": [
    "pnl_results[\"total_month\"] = len(budget_data)"
   ]
  },
  {
   "cell_type": "code",
   "execution_count": 332,
   "id": "chicken-hawaii",
   "metadata": {},
   "outputs": [],
   "source": [
    "#The net total amount of Profit/Losses over the entire period."
   ]
  },
  {
   "cell_type": "code",
   "execution_count": 333,
   "id": "raising-rotation",
   "metadata": {},
   "outputs": [],
   "source": [
    "pnl_results[\"net_amount\"] = budget_data['Profit/Losses'].sum()"
   ]
  },
  {
   "cell_type": "code",
   "execution_count": 334,
   "id": "martial-words",
   "metadata": {},
   "outputs": [],
   "source": [
    "#The average of the changes in Profit/Losses over the entire period."
   ]
  },
  {
   "cell_type": "code",
   "execution_count": 335,
   "id": "constant-cassette",
   "metadata": {},
   "outputs": [],
   "source": [
    "budget_data[\"changes_pnl\"] = budget_data['Profit/Losses'] - budget_data[\"Profit/Losses\"].shift(1)\n",
    "budget_data = budget_data.sort_values(by=['changes_pnl'],ascending=False).dropna((0))\n",
    "pnl_results[\"avg_changes_pnl\"] = round(budget_data[\"changes_pnl\"].mean(),2)"
   ]
  },
  {
   "cell_type": "code",
   "execution_count": 336,
   "id": "stunning-curve",
   "metadata": {},
   "outputs": [],
   "source": [
    "#The greatest increase in profits (date and amount) over the entire period"
   ]
  },
  {
   "cell_type": "code",
   "execution_count": 337,
   "id": "framed-release",
   "metadata": {},
   "outputs": [],
   "source": [
    "pnl_results[\"greatest_increase\"] = [budget_data.head(1).iloc[0,0],round(budget_data.head(1).iloc[0,2])]"
   ]
  },
  {
   "cell_type": "code",
   "execution_count": 338,
   "id": "physical-digest",
   "metadata": {},
   "outputs": [],
   "source": [
    "#The greatest decrease in losses (date and amount) over the entire period."
   ]
  },
  {
   "cell_type": "code",
   "execution_count": 339,
   "id": "editorial-female",
   "metadata": {},
   "outputs": [],
   "source": [
    "pnl_results[\"greatest_decrease\"] = [budget_data.tail(1).iloc[0,0],round(budget_data.tail(1).iloc[0,2])]"
   ]
  },
  {
   "cell_type": "code",
   "execution_count": null,
   "id": "familiar-tournament",
   "metadata": {},
   "outputs": [],
   "source": []
  },
  {
   "cell_type": "code",
   "execution_count": 341,
   "id": "municipal-farming",
   "metadata": {},
   "outputs": [
    {
     "name": "stdout",
     "output_type": "stream",
     "text": [
      "Financial Analysis\n",
      "----------------------------\n",
      "Total Months: 86\n",
      "Total: $38382578\n",
      "Average  Change: $-2315.12\n",
      "Greatest Increase in Profits: Feb-2012 ($1926159)\n",
      "Greatest Decrease in Profits: Sep-2013 ($-2196167)\n"
     ]
    }
   ],
   "source": [
    "print('Financial Analysis')\n",
    "print('----------------------------')\n",
    "print(f'Total Months: {pnl_results[\"total_month\"]}')\n",
    "print(f'Total: ${pnl_results[\"net_amount\"]}')\n",
    "print(f'Average  Change: ${pnl_results[\"avg_changes_pnl\"]}')\n",
    "print(f'Greatest Increase in Profits: {pnl_results[\"greatest_increase\"][0]} (${pnl_results[\"greatest_increase\"][1]})')\n",
    "print(f'Greatest Decrease in Profits: {pnl_results[\"greatest_decrease\"][0]} (${pnl_results[\"greatest_decrease\"][1]})')"
   ]
  },
  {
   "cell_type": "code",
   "execution_count": null,
   "id": "bearing-hearts",
   "metadata": {},
   "outputs": [],
   "source": []
  }
 ],
 "metadata": {
  "kernelspec": {
   "display_name": "Python 3",
   "language": "python",
   "name": "python3"
  },
  "language_info": {
   "codemirror_mode": {
    "name": "ipython",
    "version": 3
   },
   "file_extension": ".py",
   "mimetype": "text/x-python",
   "name": "python",
   "nbconvert_exporter": "python",
   "pygments_lexer": "ipython3",
   "version": "3.8.5"
  }
 },
 "nbformat": 4,
 "nbformat_minor": 5
}
