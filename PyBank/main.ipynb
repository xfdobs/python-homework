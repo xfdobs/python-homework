{
 "cells": [
  {
   "cell_type": "code",
   "execution_count": 51,
   "id": "corporate-television",
   "metadata": {},
   "outputs": [],
   "source": [
    "#Importing the pandas library to allow works with pandas and Path library"
   ]
  },
  {
   "cell_type": "code",
   "execution_count": 99,
   "id": "divided-morocco",
   "metadata": {},
   "outputs": [],
   "source": [
    "import pandas as pd\n",
    "from pathlib import Path"
   ]
  },
  {
   "cell_type": "code",
   "execution_count": 210,
   "id": "demographic-colombia",
   "metadata": {},
   "outputs": [],
   "source": [
    "def result_print_export(pnl_results,output_file):\n",
    "    title = 'Financial Analysis \\n----------------------------\\n'\n",
    "    \n",
    "    with open(output_file,'w') as file:\n",
    "        print(title)\n",
    "        file.write(title)        \n",
    "        \n",
    "        for key,value in pnl_results.items():\n",
    "            \n",
    "            if type(value) == list:\n",
    "                print(f\"{key}: {value[0]} (${value[1]})\")\n",
    "                file.write(f\"{key}: {value[0]} (${value[1]}) \\n\")\n",
    "            else:\n",
    "                print(f\"{key}: {value}\")\n",
    "                file.write(f\"{key}: {value} \\n\")"
   ]
  },
  {
   "cell_type": "code",
   "execution_count": null,
   "id": "going-quick",
   "metadata": {},
   "outputs": [],
   "source": []
  },
  {
   "cell_type": "code",
   "execution_count": 156,
   "id": "capable-journal",
   "metadata": {},
   "outputs": [],
   "source": [
    "#Setting the path of csv file\n",
    "path_file = Path(\"./data/budget_data.csv\")\n"
   ]
  },
  {
   "cell_type": "code",
   "execution_count": 157,
   "id": "skilled-roads",
   "metadata": {},
   "outputs": [],
   "source": [
    "#Declaring the dictionary that will record the results\n",
    "pnl_results = {}"
   ]
  },
  {
   "cell_type": "code",
   "execution_count": 158,
   "id": "massive-sensitivity",
   "metadata": {},
   "outputs": [],
   "source": [
    "#Reading the CSV file and saving in a pandas dataframe\n",
    "budget_data = pd.read_csv(path_file)"
   ]
  },
  {
   "cell_type": "code",
   "execution_count": 159,
   "id": "relevant-guyana",
   "metadata": {},
   "outputs": [
    {
     "data": {
      "text/html": [
       "<div>\n",
       "<style scoped>\n",
       "    .dataframe tbody tr th:only-of-type {\n",
       "        vertical-align: middle;\n",
       "    }\n",
       "\n",
       "    .dataframe tbody tr th {\n",
       "        vertical-align: top;\n",
       "    }\n",
       "\n",
       "    .dataframe thead th {\n",
       "        text-align: right;\n",
       "    }\n",
       "</style>\n",
       "<table border=\"1\" class=\"dataframe\">\n",
       "  <thead>\n",
       "    <tr style=\"text-align: right;\">\n",
       "      <th></th>\n",
       "      <th>Date</th>\n",
       "      <th>Profit/Losses</th>\n",
       "    </tr>\n",
       "  </thead>\n",
       "  <tbody>\n",
       "    <tr>\n",
       "      <th>0</th>\n",
       "      <td>Jan-2010</td>\n",
       "      <td>867884</td>\n",
       "    </tr>\n",
       "    <tr>\n",
       "      <th>1</th>\n",
       "      <td>Feb-2010</td>\n",
       "      <td>984655</td>\n",
       "    </tr>\n",
       "    <tr>\n",
       "      <th>2</th>\n",
       "      <td>Mar-2010</td>\n",
       "      <td>322013</td>\n",
       "    </tr>\n",
       "    <tr>\n",
       "      <th>3</th>\n",
       "      <td>Apr-2010</td>\n",
       "      <td>-69417</td>\n",
       "    </tr>\n",
       "    <tr>\n",
       "      <th>4</th>\n",
       "      <td>May-2010</td>\n",
       "      <td>310503</td>\n",
       "    </tr>\n",
       "    <tr>\n",
       "      <th>...</th>\n",
       "      <td>...</td>\n",
       "      <td>...</td>\n",
       "    </tr>\n",
       "    <tr>\n",
       "      <th>81</th>\n",
       "      <td>Oct-2016</td>\n",
       "      <td>102685</td>\n",
       "    </tr>\n",
       "    <tr>\n",
       "      <th>82</th>\n",
       "      <td>Nov-2016</td>\n",
       "      <td>795914</td>\n",
       "    </tr>\n",
       "    <tr>\n",
       "      <th>83</th>\n",
       "      <td>Dec-2016</td>\n",
       "      <td>60988</td>\n",
       "    </tr>\n",
       "    <tr>\n",
       "      <th>84</th>\n",
       "      <td>Jan-2017</td>\n",
       "      <td>138230</td>\n",
       "    </tr>\n",
       "    <tr>\n",
       "      <th>85</th>\n",
       "      <td>Feb-2017</td>\n",
       "      <td>671099</td>\n",
       "    </tr>\n",
       "  </tbody>\n",
       "</table>\n",
       "<p>86 rows × 2 columns</p>\n",
       "</div>"
      ],
      "text/plain": [
       "        Date  Profit/Losses\n",
       "0   Jan-2010         867884\n",
       "1   Feb-2010         984655\n",
       "2   Mar-2010         322013\n",
       "3   Apr-2010         -69417\n",
       "4   May-2010         310503\n",
       "..       ...            ...\n",
       "81  Oct-2016         102685\n",
       "82  Nov-2016         795914\n",
       "83  Dec-2016          60988\n",
       "84  Jan-2017         138230\n",
       "85  Feb-2017         671099\n",
       "\n",
       "[86 rows x 2 columns]"
      ]
     },
     "execution_count": 159,
     "metadata": {},
     "output_type": "execute_result"
    }
   ],
   "source": [
    "#Printing the dataframe\n",
    "budget_data"
   ]
  },
  {
   "cell_type": "code",
   "execution_count": 160,
   "id": "bizarre-population",
   "metadata": {},
   "outputs": [],
   "source": [
    "#Calculating the total month based on the len of dataframe and saving in the dictionary"
   ]
  },
  {
   "cell_type": "code",
   "execution_count": 161,
   "id": "searching-alloy",
   "metadata": {},
   "outputs": [],
   "source": [
    "pnl_results[\"Total Months\"] = len(budget_data)"
   ]
  },
  {
   "cell_type": "code",
   "execution_count": 162,
   "id": "interracial-third",
   "metadata": {},
   "outputs": [],
   "source": [
    "#Calculating the net amount of profit/losses using a function sum from dataframe"
   ]
  },
  {
   "cell_type": "code",
   "execution_count": 163,
   "id": "fixed-exclusive",
   "metadata": {},
   "outputs": [],
   "source": [
    "pnl_results[\"Total\"] = f\"${budget_data['Profit/Losses'].sum()}\""
   ]
  },
  {
   "cell_type": "code",
   "execution_count": 164,
   "id": "final-sleeping",
   "metadata": {},
   "outputs": [],
   "source": [
    "#Calculating the changes in profit/loss over the period and saving in the dictionary as a key"
   ]
  },
  {
   "cell_type": "code",
   "execution_count": 165,
   "id": "quick-acceptance",
   "metadata": {},
   "outputs": [],
   "source": [
    "budget_data[\"changes_pnl\"] = budget_data['Profit/Losses'] - budget_data[\"Profit/Losses\"].shift(1)\n"
   ]
  },
  {
   "cell_type": "code",
   "execution_count": 166,
   "id": "mechanical-transfer",
   "metadata": {},
   "outputs": [],
   "source": [
    "#Sorting the dataframe from the highest changes_pnl calculate and removing the none value"
   ]
  },
  {
   "cell_type": "code",
   "execution_count": 167,
   "id": "affected-profile",
   "metadata": {},
   "outputs": [],
   "source": [
    "budget_data = budget_data.sort_values(by=['changes_pnl'],ascending=False).dropna((0))\n"
   ]
  },
  {
   "cell_type": "code",
   "execution_count": 168,
   "id": "superb-helping",
   "metadata": {},
   "outputs": [],
   "source": [
    "#Calculating the averages of changes_pnl and rounding for 2 decimal places"
   ]
  },
  {
   "cell_type": "code",
   "execution_count": 169,
   "id": "classified-latitude",
   "metadata": {},
   "outputs": [],
   "source": [
    "pnl_results[\"Average Change\"] = f\"${round(budget_data['changes_pnl'].mean(),2)}\""
   ]
  },
  {
   "cell_type": "code",
   "execution_count": 170,
   "id": "surface-export",
   "metadata": {},
   "outputs": [],
   "source": [
    "#Calculating the greatest increase in profits over the entire period. As the dataframe is sorted already from the highest, I'm using the head(1) in order to bring only the first "
   ]
  },
  {
   "cell_type": "code",
   "execution_count": 171,
   "id": "arranged-court",
   "metadata": {},
   "outputs": [],
   "source": [
    "pnl_results[\"Greatest Increase in Profits\"] = [budget_data.head(1).iloc[0,0],round(budget_data.head(1).iloc[0,2])]"
   ]
  },
  {
   "cell_type": "code",
   "execution_count": 172,
   "id": "apart-civilization",
   "metadata": {},
   "outputs": [],
   "source": [
    "#Calculating the greatest increase in profits over the entire period. As the dataframe is sorted already from the highest, I'm using the tail(1) in order to bring only the first line, which is the greatest decrease"
   ]
  },
  {
   "cell_type": "code",
   "execution_count": 173,
   "id": "second-electricity",
   "metadata": {},
   "outputs": [],
   "source": [
    "pnl_results[\"Greatest Decrease in Profits\"] = [budget_data.tail(1).iloc[0,0],round(budget_data.tail(1).iloc[0,2])]"
   ]
  },
  {
   "cell_type": "code",
   "execution_count": 212,
   "id": "taken-mileage",
   "metadata": {},
   "outputs": [],
   "source": [
    "#Setting the output path destination and file name"
   ]
  },
  {
   "cell_type": "code",
   "execution_count": 213,
   "id": "certain-evaluation",
   "metadata": {},
   "outputs": [],
   "source": [
    "output_file = Path(\"./output.txt\")"
   ]
  },
  {
   "cell_type": "code",
   "execution_count": 214,
   "id": "minimal-toyota",
   "metadata": {},
   "outputs": [],
   "source": [
    "#Exporting and printing the file looping the dictionary"
   ]
  },
  {
   "cell_type": "code",
   "execution_count": 215,
   "id": "miniature-desire",
   "metadata": {},
   "outputs": [
    {
     "name": "stdout",
     "output_type": "stream",
     "text": [
      "Financial Analysis \n",
      "----------------------------\n",
      "\n",
      "Total Months: 86\n",
      "Total: $38382578\n",
      "Average Change: $-2315.12\n",
      "Greatest Increase in Profits: Feb-2012 ($1926159)\n",
      "Greatest Decrease in Profits: Sep-2013 ($-2196167)\n"
     ]
    }
   ],
   "source": [
    "result_print_export(pnl_results,output_file)"
   ]
  },
  {
   "cell_type": "code",
   "execution_count": null,
   "id": "sapphire-depression",
   "metadata": {},
   "outputs": [],
   "source": []
  }
 ],
 "metadata": {
  "kernelspec": {
   "display_name": "Python 3",
   "language": "python",
   "name": "python3"
  },
  "language_info": {
   "codemirror_mode": {
    "name": "ipython",
    "version": 3
   },
   "file_extension": ".py",
   "mimetype": "text/x-python",
   "name": "python",
   "nbconvert_exporter": "python",
   "pygments_lexer": "ipython3",
   "version": "3.8.5"
  }
 },
 "nbformat": 4,
 "nbformat_minor": 5
}
