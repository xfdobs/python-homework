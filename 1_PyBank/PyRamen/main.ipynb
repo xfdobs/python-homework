{
 "cells": [
  {
   "cell_type": "code",
   "execution_count": 1,
   "id": "latin-fiber",
   "metadata": {},
   "outputs": [
    {
     "data": {
      "text/plain": [
       "'\\nThis script analyzes the sales data from the PyRamen restaurant and  \\nhelps the owner to understand the financial results from sales based on the menu. The Results are being exported and printed.\\nThe approach is using Dictionary, List and Csv\\xa0\\n'"
      ]
     },
     "execution_count": 1,
     "metadata": {},
     "output_type": "execute_result"
    }
   ],
   "source": [
    "\"\"\"\n",
    "This script analyzes the sales data from the PyRamen restaurant and  \n",
    "helps the owner to understand the financial results from sales based on the menu. The Results are being exported and printed.\n",
    "The approach is using Dictionary, List and Csv \n",
    "\"\"\""
   ]
  },
  {
   "cell_type": "code",
   "execution_count": 2,
   "id": "running-passing",
   "metadata": {},
   "outputs": [],
   "source": [
    "#Import the libs"
   ]
  },
  {
   "cell_type": "code",
   "execution_count": 3,
   "id": "accepting-market",
   "metadata": {},
   "outputs": [],
   "source": [
    "from pathlib import Path\n",
    "import csv"
   ]
  },
  {
   "cell_type": "code",
   "execution_count": 4,
   "id": "piano-ballot",
   "metadata": {},
   "outputs": [],
   "source": [
    "# Generic Function to read the data"
   ]
  },
  {
   "cell_type": "code",
   "execution_count": 5,
   "id": "developed-windows",
   "metadata": {},
   "outputs": [],
   "source": [
    "def ReadData(path):\n",
    "    #Open the csv file \n",
    "    with open(path,'r') as csvfile:\n",
    "        data_lines = []\n",
    "        \n",
    "        #create the csvreader based on the the delimiter\n",
    "        csvreader = csv.reader(csvfile,delimiter=',')\n",
    "        \n",
    "        #skip the header\n",
    "        next(csvreader)\n",
    "        \n",
    "        #read each line from the file and add to the list\n",
    "        for line in csvreader:\n",
    "            data_lines.append(line)\n",
    "            \n",
    "    #return the list\n",
    "    return data_lines"
   ]
  },
  {
   "cell_type": "code",
   "execution_count": 6,
   "id": "african-research",
   "metadata": {},
   "outputs": [],
   "source": [
    "# Generic Function to export the data based on the path and the dictionary as parameter"
   ]
  },
  {
   "cell_type": "code",
   "execution_count": 7,
   "id": "surgical-cardiff",
   "metadata": {},
   "outputs": [],
   "source": [
    "def ExportData(path,report):\n",
    "    \n",
    "    #Create and open the txt file\n",
    "    with open(path,'w') as txtfile:\n",
    "        \n",
    "        #loop the dictionary(report)\n",
    "        for key,value in report.items():\n",
    "            \n",
    "            #Write the key and value to the file\n",
    "            txtfile.write(f\"{key} {value} \\n\")"
   ]
  },
  {
   "cell_type": "code",
   "execution_count": 8,
   "id": "minute-pipeline",
   "metadata": {},
   "outputs": [],
   "source": [
    "########## DATA READING ###############\n"
   ]
  },
  {
   "cell_type": "code",
   "execution_count": 9,
   "id": "intense-astronomy",
   "metadata": {},
   "outputs": [],
   "source": [
    "# Create a list with both path files\n",
    "data_list = [[\"menu_data\",Path(\"./data/menu_data.csv\")],\n",
    "             [\"sales_data\",Path(\"./data/sales_data.csv\")]]"
   ]
  },
  {
   "cell_type": "code",
   "execution_count": 10,
   "id": "arctic-young",
   "metadata": {},
   "outputs": [],
   "source": [
    "#Declare the dictionary that will storage the data from both files\n",
    "data_files = {}"
   ]
  },
  {
   "cell_type": "code",
   "execution_count": 11,
   "id": "alike-finnish",
   "metadata": {},
   "outputs": [],
   "source": [
    "#Loop the path file list and retrieve the file read from the function ReadData()\n",
    "#it is saved in the data_files dictionary as the file's name as key\n",
    "for data in data_list:\n",
    "    data_files[data[0]] = ReadData(data[1])\n"
   ]
  },
  {
   "cell_type": "code",
   "execution_count": 12,
   "id": "transparent-water",
   "metadata": {},
   "outputs": [],
   "source": [
    "########## MANIPULATING THE DATA ######-#####\n"
   ]
  },
  {
   "cell_type": "code",
   "execution_count": 13,
   "id": "quarterly-columbia",
   "metadata": {},
   "outputs": [],
   "source": [
    "#Declare the report dictionary"
   ]
  },
  {
   "cell_type": "code",
   "execution_count": 14,
   "id": "buried-impression",
   "metadata": {},
   "outputs": [],
   "source": [
    "report = {}"
   ]
  },
  {
   "cell_type": "code",
   "execution_count": 15,
   "id": "removed-agent",
   "metadata": {},
   "outputs": [
    {
     "name": "stdout",
     "output_type": "stream",
     "text": [
      "spicy miso ramen {'01-count': 9238, '02-revenue': 110856, '03-cogs': 46190, '04-profit': 64666}\n",
      "tori paitan ramen {'01-count': 9156, '02-revenue': 119028, '03-cogs': 54936, '04-profit': 64092}\n",
      "truffle butter ramen {'01-count': 8982, '02-revenue': 125748, '03-cogs': 62874, '04-profit': 62874}\n",
      "tonkotsu ramen {'01-count': 9288, '02-revenue': 120744, '03-cogs': 55728, '04-profit': 65016}\n",
      "vegetarian spicy miso {'01-count': 9216, '02-revenue': 110592, '03-cogs': 46080, '04-profit': 64512}\n",
      "shio ramen {'01-count': 9180, '02-revenue': 100980, '03-cogs': 45900, '04-profit': 55080}\n",
      "miso crab ramen {'01-count': 8890, '02-revenue': 106680, '03-cogs': 53340, '04-profit': 53340}\n",
      "nagomi shoyu {'01-count': 9132, '02-revenue': 100452, '03-cogs': 45660, '04-profit': 54792}\n",
      "soft-shell miso crab ramen {'01-count': 9130, '02-revenue': 127820, '03-cogs': 63910, '04-profit': 63910}\n",
      "burnt garlic tonkotsu ramen {'01-count': 9070, '02-revenue': 126980, '03-cogs': 54420, '04-profit': 72560}\n",
      "vegetarian curry + king trumpet mushroom ramen {'01-count': 8824, '02-revenue': 114712, '03-cogs': 61768, '04-profit': 52944}\n"
     ]
    }
   ],
   "source": [
    "#Loop the sales data file\n",
    "for sales_data in data_files['sales_data']:\n",
    "\n",
    "    #Retrieve the quantity and menu_item from the sales file  \n",
    "    quantity = int(sales_data[3])\n",
    "    menu_item = sales_data[4]\n",
    "\n",
    "    #Check if the item already exist in the report, in case false, it add the menu item as a key and initialize with the following dictionary\n",
    "    if menu_item not in report.keys():\n",
    "        report[menu_item] = {\"01-count\": 0,\"02-revenue\": 0,\"03-cogs\": 0,\"04-profit\": 0}\n",
    "\n",
    "    #Check if the item from sales exist in the menu data file\n",
    "    #If false, it prints the message saying it doesn't exist in the menu file\n",
    "    if any(menu_item in sublist[0] for sublist in data_files['menu_data']):\n",
    "        \n",
    "        #Loop the menu file in order to retrieve some information for calculation\n",
    "        for menu in data_files['menu_data']:\n",
    "            \n",
    "            #check if the item from sales is equal with the menu in the loop interaction \n",
    "            if menu[0] == menu_item:\n",
    "                \n",
    "                #Retrieve the following variable\n",
    "                item = menu[0]\n",
    "                price = int(menu[3])\n",
    "                cost = int(menu[4])\n",
    "                profit = price - cost\n",
    "                \n",
    "                #Acumulate the values to the report based on the item from sales as a key\n",
    "                report[menu[0]][\"01-count\"] += quantity\n",
    "                report[menu[0]][\"02-revenue\"] += price * quantity\n",
    "                report[menu[0]][\"03-cogs\"] += cost * quantity\n",
    "                report[menu[0]][\"04-profit\"] += profit * quantity\n",
    "                break\n",
    "    else:\n",
    "        print(f\"{menu_item} does not exist! NO MATCH!\")\n",
    "\n",
    "#Print the report \n",
    "for key,value in report.items():\n",
    "    print(f\"{key} {value}\")"
   ]
  },
  {
   "cell_type": "code",
   "execution_count": 16,
   "id": "natural-person",
   "metadata": {},
   "outputs": [],
   "source": [
    "########## DATA EXPORT ###############"
   ]
  },
  {
   "cell_type": "code",
   "execution_count": 17,
   "id": "consecutive-south",
   "metadata": {},
   "outputs": [],
   "source": [
    "#Set the path to export the report results\n",
    "output = Path(\"./report.txt\")"
   ]
  },
  {
   "cell_type": "code",
   "execution_count": 18,
   "id": "proud-kennedy",
   "metadata": {},
   "outputs": [],
   "source": [
    "#Call the function to export the file passing the output path and the report as parameter\n",
    "ExportData(output,report)"
   ]
  }
 ],
 "metadata": {
  "kernelspec": {
   "display_name": "Python 3",
   "language": "python",
   "name": "python3"
  },
  "language_info": {
   "codemirror_mode": {
    "name": "ipython",
    "version": 3
   },
   "file_extension": ".py",
   "mimetype": "text/x-python",
   "name": "python",
   "nbconvert_exporter": "python",
   "pygments_lexer": "ipython3",
   "version": "3.8.5"
  }
 },
 "nbformat": 4,
 "nbformat_minor": 5
}
